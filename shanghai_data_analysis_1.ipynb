{
 "cells": [
  {
   "cell_type": "code",
   "execution_count": 2,
   "metadata": {},
   "outputs": [],
   "source": [
    "import os\n",
    "import numpy as np \n",
    "import pandas as pd\n",
    "import geopandas as gpd\n",
    "import matplotlib.pyplot as plt\n",
    "from tqdm import tqdm\n",
    "from shapely.geometry import Point,Polygon\n",
    "import seaborn as sns\n",
    "%matplotlib inline\n",
    "\n",
    "data_root = './data-sample/taxi_sh'"
   ]
  },
  {
   "cell_type": "markdown",
   "metadata": {},
   "source": [
    "读取数据"
   ]
  },
  {
   "cell_type": "code",
   "execution_count": 47,
   "metadata": {},
   "outputs": [
    {
     "name": "stderr",
     "output_type": "stream",
     "text": [
      "4316it [23:25,  3.07it/s]\n"
     ]
    }
   ],
   "source": [
    "# 4316个出租车司机，一天在上海一天的行程\n",
    "# len(os.listdir(data_root))\n",
    "sh_od = pd.DataFrame()\n",
    "for i,path in tqdm(enumerate(os.listdir(data_root))):\n",
    "    per_czc = pd.read_csv(os.path.join(data_root,path))\n",
    "    per_czc.columns = ['vehicle_num','date','longitude','latitude','speed','degree','status']\n",
    "    sh_od = sh_od.append(per_czc,ignore_index=True)   \n",
    "\n",
    "# sns.countplot('3',data=a_1) \n",
    "# a_1.columns = ['vehicle_num','date','longitude','latitude',]"
   ]
  },
  {
   "cell_type": "code",
   "execution_count": 63,
   "metadata": {},
   "outputs": [
    {
     "name": "stdout",
     "output_type": "stream",
     "text": [
      "(4429131, 7)\n",
      "(4429131, 7)\n",
      "      vehicle_num                 date   longitude  latitude  status\n",
      "2114        10004  2007-02-20 00:08:45  121.414583     31.16       1\n",
      "2115        10004  2007-02-20 00:11:55  121.414583     31.16       1\n",
      "2116        10004  2007-02-20 00:18:13  121.414583     31.16       1\n",
      "2117        10004  2007-02-20 00:24:31  121.414583     31.16       1\n",
      "2118        10004  2007-02-20 00:27:40  121.414583     31.16       1\n"
     ]
    }
   ],
   "source": [
    "# 获取正常行驶的出租车编号,去除状态是0，1以外的情况\n",
    "print (sh_od.shape)\n",
    "sh_od = sh_od[sh_od['status'].between(0,1)]\n",
    "print (sh_od.shape)\n",
    "# 去除speed和degree这两列\n",
    "sh_od = sh_od[['vehicle_num','date','longitude','latitude','status']]\n",
    "print (sh_od.head())\n",
    "sh_od.to_csv('./data-sample/sh_od.csv')"
   ]
  },
  {
   "cell_type": "markdown",
   "metadata": {},
   "source": [
    "# 初步进行数据分析\n",
    "1. 判断出租车司机有多少个\n",
    "2. 日期主要集中在什么时候\n",
    "3. 经纬度的最大值与上海的行政区划比较"
   ]
  },
  {
   "cell_type": "code",
   "execution_count": 3,
   "metadata": {},
   "outputs": [
    {
     "name": "stdout",
     "output_type": "stream",
     "text": [
      "   Unnamed: 0  vehicle_num                 date   longitude  latitude  status\n",
      "0        2114        10004  2007-02-20 00:08:45  121.414583     31.16       1\n",
      "1        2115        10004  2007-02-20 00:11:55  121.414583     31.16       1\n",
      "2        2116        10004  2007-02-20 00:18:13  121.414583     31.16       1\n",
      "3        2117        10004  2007-02-20 00:24:31  121.414583     31.16       1\n",
      "4        2118        10004  2007-02-20 00:27:40  121.414583     31.16       1\n",
      "<class 'pandas.core.frame.DataFrame'>\n",
      "RangeIndex: 4429131 entries, 0 to 4429130\n",
      "Data columns (total 5 columns):\n",
      "vehicle_num    int64\n",
      "date           object\n",
      "longitude      float64\n",
      "latitude       float64\n",
      "status         int64\n",
      "dtypes: float64(2), int64(2), object(1)\n",
      "memory usage: 169.0+ MB\n"
     ]
    }
   ],
   "source": [
    "sh_od = pd.read_csv('./data-sample/sh_od.csv')\n",
    "print (sh_od.head())\n",
    "sh_od = sh_od[['vehicle_num','date','longitude','latitude','status']]\n",
    "sh_od.info()"
   ]
  },
  {
   "cell_type": "code",
   "execution_count": 81,
   "metadata": {},
   "outputs": [
    {
     "name": "stdout",
     "output_type": "stream",
     "text": [
      "最小日期为2007-02-20 00:00:13\n",
      "最大日期为2007-02-20 23:59:46\n",
      "出租车数据最小经度为120.0345\n",
      "出租车数据最大经度为121.991\n",
      "出租车数据最小维度为30.0488\n",
      "出租车数据最大维度为31.9646\n",
      "上海行政区划最小经度为120.85172099982435\n",
      "上海行政区划最大经度为121.97408500012276\n",
      "上海行政区划最小纬度为30.682327999737417\n",
      "上海行政区划最大纬度为31.866630000074537\n"
     ]
    }
   ],
   "source": [
    "print ('最小日期为'+np.min(sh_od['date']))\n",
    "print ('最大日期为'+np.max(sh_od['date']))\n",
    "\n",
    "print (f'出租车数据最小经度为{np.min(sh_od.longitude)}')\n",
    "print (f'出租车数据最大经度为{np.max(sh_od.longitude)}')\n",
    "print (f'出租车数据最小维度为{np.min(sh_od.latitude)}')\n",
    "print (f'出租车数据最大维度为{np.max(sh_od.latitude)}')\n",
    "\n",
    "sh_xzgh = gpd.GeoDataFrame.from_file('./shapefile/shanghai_shp/区县界_area.shp')\n",
    "bounds = sh_xzgh.geometry.apply(lambda x: x.bounds)\n",
    "lat_min = bounds.apply(lambda x: x[1])\n",
    "lat_max = bounds.apply(lambda x: x[3])\n",
    "lon_min = bounds.apply(lambda x: x[0])\n",
    "lon_max = bounds.apply(lambda x: x[2])\n",
    "print (f'上海行政区划最小经度为{lon_min.min()}')\n",
    "print (f'上海行政区划最大经度为{lon_max.max()}')\n",
    "print (f'上海行政区划最小纬度为{lat_min.min()}')\n",
    "print (f'上海行政区划最大纬度为{lat_max.max()}')"
   ]
  },
  {
   "cell_type": "code",
   "execution_count": 118,
   "metadata": {},
   "outputs": [
    {
     "data": {
      "text/plain": [
       "(2822,)"
      ]
     },
     "execution_count": 118,
     "metadata": {},
     "output_type": "execute_result"
    }
   ],
   "source": [
    "# 经过筛选，一共有2822个出租车数据\n",
    "sh_od.groupby('vehicle_num')['vehicle_num'].count().shape"
   ]
  },
  {
   "cell_type": "code",
   "execution_count": null,
   "metadata": {},
   "outputs": [],
   "source": []
  }
 ],
 "metadata": {
  "interpreter": {
   "hash": "579282893146967bc5d17141c601e8a8b8ad4a0a2a5a6fe1c87b1000077400d7"
  },
  "kernelspec": {
   "display_name": "Python 3.7.4 ('base')",
   "language": "python",
   "name": "python3"
  },
  "language_info": {
   "codemirror_mode": {
    "name": "ipython",
    "version": 3
   },
   "file_extension": ".py",
   "mimetype": "text/x-python",
   "name": "python",
   "nbconvert_exporter": "python",
   "pygments_lexer": "ipython3",
   "version": "3.7.4"
  },
  "orig_nbformat": 4
 },
 "nbformat": 4,
 "nbformat_minor": 2
}
